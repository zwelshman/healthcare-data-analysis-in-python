{
  "nbformat": 4,
  "nbformat_minor": 0,
  "metadata": {
    "colab": {
      "provenance": [],
      "toc_visible": true,
      "authorship_tag": "ABX9TyNofrFwGWkb3setKCKJ0opC",
      "include_colab_link": true
    },
    "kernelspec": {
      "name": "python3",
      "display_name": "Python 3"
    },
    "language_info": {
      "name": "python"
    }
  },
  "cells": [
    {
      "cell_type": "markdown",
      "metadata": {
        "id": "view-in-github",
        "colab_type": "text"
      },
      "source": [
        "<a href=\"https://colab.research.google.com/github/zwelshman/healthcare-data-analysis-in-python/blob/main/beginner/python/Introduction_to_Python.ipynb\" target=\"_parent\"><img src=\"https://colab.research.google.com/assets/colab-badge.svg\" alt=\"Open In Colab\"/></a>"
      ]
    },
    {
      "cell_type": "markdown",
      "source": [
        "# Introduction to Python\n",
        "\n",
        "\n",
        "\n"
      ],
      "metadata": {
        "id": "W6BnEzCCmvij"
      }
    },
    {
      "cell_type": "markdown",
      "source": [
        ">>[The Zen of Python: Principles for development](#scrollTo=a7pHlv2om29A)\n",
        "\n",
        ">>[Data Structures](#scrollTo=xbSTPdKzw0yq)\n",
        "\n",
        ">>>[Lists](#scrollTo=yz3UMiFTqZMl)\n",
        "\n",
        ">>>[Sets](#scrollTo=5QE8qkyjqmFx)\n",
        "\n",
        ">>>[Tuples](#scrollTo=5D0sK3snvW1C)\n",
        "\n",
        ">>>[Dictionaries](#scrollTo=vzy1CcUJvcXy)\n",
        "\n"
      ],
      "metadata": {
        "colab_type": "toc",
        "id": "Ol6gY5jvxHP-"
      }
    },
    {
      "cell_type": "markdown",
      "source": [
        "## The Zen of Python: Principles for development"
      ],
      "metadata": {
        "id": "a7pHlv2om29A"
      }
    },
    {
      "cell_type": "code",
      "execution_count": null,
      "metadata": {
        "colab": {
          "base_uri": "https://localhost:8080/"
        },
        "id": "Ubr0v-x--btR",
        "outputId": "0c5f667f-9c2a-4aa8-c2ff-b3d09cc5146a"
      },
      "outputs": [
        {
          "output_type": "stream",
          "name": "stdout",
          "text": [
            "The Zen of Python, by Tim Peters\n",
            "\n",
            "Beautiful is better than ugly.\n",
            "Explicit is better than implicit.\n",
            "Simple is better than complex.\n",
            "Complex is better than complicated.\n",
            "Flat is better than nested.\n",
            "Sparse is better than dense.\n",
            "Readability counts.\n",
            "Special cases aren't special enough to break the rules.\n",
            "Although practicality beats purity.\n",
            "Errors should never pass silently.\n",
            "Unless explicitly silenced.\n",
            "In the face of ambiguity, refuse the temptation to guess.\n",
            "There should be one-- and preferably only one --obvious way to do it.\n",
            "Although that way may not be obvious at first unless you're Dutch.\n",
            "Now is better than never.\n",
            "Although never is often better than *right* now.\n",
            "If the implementation is hard to explain, it's a bad idea.\n",
            "If the implementation is easy to explain, it may be a good idea.\n",
            "Namespaces are one honking great idea -- let's do more of those!\n"
          ]
        }
      ],
      "source": [
        "import this"
      ]
    },
    {
      "cell_type": "markdown",
      "source": [
        "##Data Structures"
      ],
      "metadata": {
        "id": "xbSTPdKzw0yq"
      }
    },
    {
      "cell_type": "markdown",
      "source": [
        "### Lists\n",
        "Description\n",
        "A list in Python is a mutable, ordered sequence of elements. Each element or value inside a list is called an item. Lists are defined by having values between square brackets `[]`.\n",
        "\n",
        "Reference:\n",
        "[Digital Ocean](https://www.digitalocean.com/community/tutorials/understanding-lists-in-python-3), [w3 Schools](https://www.w3schools.com/python/python_lists.asp)\n",
        "\n",
        "\n",
        "Use Case:\n",
        "They are versatile and can be used to store a collection of items where order matters and where items may need to be added, removed, or changed."
      ],
      "metadata": {
        "id": "yz3UMiFTqZMl"
      }
    },
    {
      "cell_type": "code",
      "source": [
        "# Using pprint() instead of print() will format longer outputs to make them more\n",
        "# readable\n",
        "from pprint import pprint"
      ],
      "metadata": {
        "id": "hSI63KfcYKDV"
      },
      "execution_count": null,
      "outputs": []
    },
    {
      "cell_type": "code",
      "source": [
        "#A simple list of patient ages\n",
        "patient_ages = [29, 30, 24, 40, 45, 39]\n",
        "pprint(patient_ages)"
      ],
      "metadata": {
        "colab": {
          "base_uri": "https://localhost:8080/"
        },
        "id": "G-W1sE_bqplE",
        "outputId": "864b808d-6b30-4f6d-f530-82dacf430e6e"
      },
      "execution_count": null,
      "outputs": [
        {
          "output_type": "stream",
          "name": "stdout",
          "text": [
            "[29, 30, 24, 40, 45, 39]\n"
          ]
        }
      ]
    },
    {
      "cell_type": "code",
      "source": [
        "# A nested list containing patient ID, age, and diagnosis\n",
        "patients = [\n",
        "    [1001, 29, \"Type 2 Diabetes\"],\n",
        "    [1002, 35, \"Hypertension\"],\n",
        "    [1003, 42, \"Breast Cancer\"],\n",
        "    [1004, 56, \"Heart Disease\"],\n",
        "    [1005, 73, \"Alzheimer's\"]\n",
        "]\n",
        "\n",
        "for patient in patients:\n",
        "    pprint(f\"Patient ID: {patient[0]}, Age: {patient[1]}, Diagnosis: {patient[2]}\")"
      ],
      "metadata": {
        "id": "Ith4pSQMLFP0",
        "outputId": "eeacfe8e-9754-4957-dfdd-70b9066ebb44",
        "colab": {
          "base_uri": "https://localhost:8080/"
        }
      },
      "execution_count": null,
      "outputs": [
        {
          "output_type": "stream",
          "name": "stdout",
          "text": [
            "'Patient ID: 1001, Age: 29, Diagnosis: Type 2 Diabetes'\n",
            "'Patient ID: 1002, Age: 35, Diagnosis: Hypertension'\n",
            "'Patient ID: 1003, Age: 42, Diagnosis: Breast Cancer'\n",
            "'Patient ID: 1004, Age: 56, Diagnosis: Heart Disease'\n",
            "\"Patient ID: 1005, Age: 73, Diagnosis: Alzheimer's\"\n"
          ]
        }
      ]
    },
    {
      "cell_type": "code",
      "source": [
        "# A list of dictionaries with comprehensive patient data\n",
        "patient_records = [\n",
        "    {\"id\": 1001, \"name\": \"John Doe\", \"age\": 29, \"diagnosis\": \"Type 2 Diabetes\", \"treatment_plan\": [\"Metformin\", \"Diet\", \"Exercise\"]},\n",
        "    {\"id\": 1002, \"name\": \"Jane Smith\", \"age\": 35, \"diagnosis\": \"Hypertension\", \"treatment_plan\": [\"ACE Inhibitors\", \"Stress Management\"]},\n",
        "    # More patient records...\n",
        "]"
      ],
      "metadata": {
        "id": "hZJUCBsjMYOZ"
      },
      "execution_count": null,
      "outputs": []
    },
    {
      "cell_type": "code",
      "source": [
        "# Displaying patient records\n",
        "for patient in patient_records:\n",
        "    pprint(f\"\"\"\n",
        "    Patient ID: {patient['id']}, Name: {patient['name']}, Age: {patient['age']},Diagnosis: {patient['diagnosis']}, Treatment Plan: {patient['treatment_plan']}\"\"\")"
      ],
      "metadata": {
        "id": "n1EQyRabMnfK",
        "outputId": "5361ab32-925c-4eef-96e2-9e814fbcbbcd",
        "colab": {
          "base_uri": "https://localhost:8080/"
        }
      },
      "execution_count": null,
      "outputs": [
        {
          "output_type": "stream",
          "name": "stdout",
          "text": [
            "('\\n'\n",
            " '    Patient ID: 1001, Name: John Doe, Age: 29,Diagnosis: Type 2 Diabetes, '\n",
            " \"Treatment Plan: ['Metformin', 'Diet', 'Exercise']\")\n",
            "('\\n'\n",
            " '    Patient ID: 1002, Name: Jane Smith, Age: 35,Diagnosis: Hypertension, '\n",
            " \"Treatment Plan: ['ACE Inhibitors', 'Stress Management']\")\n"
          ]
        }
      ]
    },
    {
      "cell_type": "code",
      "source": [
        "# Adding a new patient record\n",
        "new_patient = {\"id\": 1006, \"name\": \"Alice Brown\", \"age\": 47, \"diagnosis\": \"Asthma\", \"treatment_plan\": [\"Inhaled corticosteroids\"]}\n",
        "patient_records.append(new_patient)\n",
        "\n",
        "# Displaying updated patient records\n",
        "for patient in patient_records:\n",
        "    pprint(f\"Patient ID: {patient['id']}, Name: {patient['name']}, Age: {patient['age']}, Diagnosis: {patient['diagnosis']}, Treatment Plan: {patient['treatment_plan']}\")\n"
      ],
      "metadata": {
        "id": "EfHsLdGOMxmD",
        "outputId": "61ae2644-f4f0-4f2a-8ce7-fbd032588507",
        "colab": {
          "base_uri": "https://localhost:8080/"
        }
      },
      "execution_count": null,
      "outputs": [
        {
          "output_type": "stream",
          "name": "stdout",
          "text": [
            "('Patient ID: 1001, Name: John Doe, Age: 29, Diagnosis: Type 2 Diabetes, '\n",
            " \"Treatment Plan: ['Metformin', 'Diet', 'Exercise']\")\n",
            "('Patient ID: 1002, Name: Jane Smith, Age: 35, Diagnosis: Hypertension, '\n",
            " \"Treatment Plan: ['ACE Inhibitors', 'Stress Management']\")\n",
            "('Patient ID: 1006, Name: Alice Brown, Age: 47, Diagnosis: Asthma, Treatment '\n",
            " \"Plan: ['Inhaled corticosteroids']\")\n"
          ]
        }
      ]
    },
    {
      "cell_type": "code",
      "source": [
        "# Updating a treatment plan for a specific patient\n",
        "for patient in patient_records:\n",
        "    if patient[\"id\"] == 1001:\n",
        "        patient[\"treatment_plan\"].append(\"Insulin Therapy\")\n",
        "\n",
        "# Displaying updated patient records\n",
        "for patient in patient_records:\n",
        "    pprint(f\"Patient ID: {patient['id']}, Name: {patient['name']}, Age: {patient['age']}, Diagnosis: {patient['diagnosis']}, Treatment Plan: {patient['treatment_plan']}\")"
      ],
      "metadata": {
        "id": "dvTL_YdmMknm",
        "outputId": "593ad4e2-7118-4990-bdfa-72b10795d86c",
        "colab": {
          "base_uri": "https://localhost:8080/"
        }
      },
      "execution_count": null,
      "outputs": [
        {
          "output_type": "stream",
          "name": "stdout",
          "text": [
            "('Patient ID: 1001, Name: John Doe, Age: 29, Diagnosis: Type 2 Diabetes, '\n",
            " \"Treatment Plan: ['Metformin', 'Diet', 'Exercise', 'Insulin Therapy']\")\n",
            "('Patient ID: 1002, Name: Jane Smith, Age: 35, Diagnosis: Hypertension, '\n",
            " \"Treatment Plan: ['ACE Inhibitors', 'Stress Management']\")\n",
            "('Patient ID: 1006, Name: Alice Brown, Age: 47, Diagnosis: Asthma, Treatment '\n",
            " \"Plan: ['Inhaled corticosteroids']\")\n"
          ]
        }
      ]
    },
    {
      "cell_type": "code",
      "source": [],
      "metadata": {
        "id": "AECCr4AtNZXE"
      },
      "execution_count": null,
      "outputs": []
    },
    {
      "cell_type": "markdown",
      "source": [
        "#### List Comprehensions\n",
        "More Pythonic and can be more computationally efficient"
      ],
      "metadata": {
        "id": "8vmpQLVDNweH"
      }
    },
    {
      "cell_type": "code",
      "source": [
        "# Simulate a large list of patient records as dictionaries\n",
        "patient_records = [\n",
        "    {'id': i, 'age': 30 + i % 40, 'conditions': ['diabetes' if i % 10 == 0 else 'healthy']} for i in range(1000000)]\n",
        "\n",
        "pprint(patient_records[0:5])"
      ],
      "metadata": {
        "id": "m_1-yYPJPwRz",
        "outputId": "1a504c51-069c-4805-befb-3ffd8945c4b3",
        "colab": {
          "base_uri": "https://localhost:8080/"
        }
      },
      "execution_count": null,
      "outputs": [
        {
          "output_type": "stream",
          "name": "stdout",
          "text": [
            "[{'age': 30, 'conditions': ['diabetes'], 'id': 0},\n",
            " {'age': 31, 'conditions': ['healthy'], 'id': 1},\n",
            " {'age': 32, 'conditions': ['healthy'], 'id': 2},\n",
            " {'age': 33, 'conditions': ['healthy'], 'id': 3},\n",
            " {'age': 34, 'conditions': ['healthy'], 'id': 4}]\n"
          ]
        }
      ]
    },
    {
      "cell_type": "code",
      "source": [
        "%%timeit\n",
        "import time\n",
        "# Extract ages of patients with diabetes using list comprehension\n",
        "ages_with_diabetes = [record['age'] for record in patient_records if 'diabetes' in record['conditions']]"
      ],
      "metadata": {
        "id": "U3XoxCv5M_-8",
        "outputId": "c1631173-3525-4613-e30e-1015357c6546",
        "colab": {
          "base_uri": "https://localhost:8080/"
        }
      },
      "execution_count": null,
      "outputs": [
        {
          "output_type": "stream",
          "name": "stdout",
          "text": [
            "99 ms ± 29 ms per loop (mean ± std. dev. of 7 runs, 10 loops each)\n"
          ]
        }
      ]
    },
    {
      "cell_type": "code",
      "source": [
        "%%timeit\n",
        "# Extract ages of patients with diabetes using a for loop\n",
        "ages_with_diabetes_loop = []\n",
        "for record in patient_records:\n",
        "    if 'diabetes' in record['conditions']:\n",
        "        ages_with_diabetes_loop.append(record['age'])"
      ],
      "metadata": {
        "id": "CnpHQYTTN8sv",
        "outputId": "0cb3f4fb-639a-476a-9fbe-33a06b020133",
        "colab": {
          "base_uri": "https://localhost:8080/"
        }
      },
      "execution_count": null,
      "outputs": [
        {
          "output_type": "stream",
          "name": "stdout",
          "text": [
            "108 ms ± 22 ms per loop (mean ± std. dev. of 7 runs, 10 loops each)\n"
          ]
        }
      ]
    },
    {
      "cell_type": "markdown",
      "source": [
        "### Sets\n",
        "Description\n",
        "Use Case"
      ],
      "metadata": {
        "id": "5QE8qkyjqmFx"
      }
    },
    {
      "cell_type": "code",
      "source": [
        "set_example = {'i',2,'b'}\n",
        "\n",
        "type(set_example)"
      ],
      "metadata": {
        "id": "NfPSyo58viJB",
        "outputId": "5812681b-2f9f-47ca-d121-c4004a19f784",
        "colab": {
          "base_uri": "https://localhost:8080/"
        }
      },
      "execution_count": null,
      "outputs": [
        {
          "output_type": "execute_result",
          "data": {
            "text/plain": [
              "set"
            ]
          },
          "metadata": {},
          "execution_count": 12
        }
      ]
    },
    {
      "cell_type": "markdown",
      "source": [
        "### Tuples\n",
        "Description\n",
        "Use Case"
      ],
      "metadata": {
        "id": "5D0sK3snvW1C"
      }
    },
    {
      "cell_type": "code",
      "source": [
        "tuple_example = (1,2,4)\n",
        "type(tuple_example)"
      ],
      "metadata": {
        "id": "Yqoxv8Lyve4O",
        "outputId": "f16ab58c-9905-4fdf-eaaa-5267f9948273",
        "colab": {
          "base_uri": "https://localhost:8080/"
        }
      },
      "execution_count": null,
      "outputs": [
        {
          "output_type": "execute_result",
          "data": {
            "text/plain": [
              "tuple"
            ]
          },
          "metadata": {},
          "execution_count": 13
        }
      ]
    },
    {
      "cell_type": "markdown",
      "source": [
        "###Dictionaries\n",
        "Description\n",
        "Use Case"
      ],
      "metadata": {
        "id": "vzy1CcUJvcXy"
      }
    },
    {
      "cell_type": "code",
      "source": [
        "dict_example = {'a':3, 'b':2}\n",
        "\n",
        "type(dict_example)"
      ],
      "metadata": {
        "id": "gITsCivCvV8e",
        "outputId": "8b2f0ed0-76fb-4c0c-ccf1-341c5124e022",
        "colab": {
          "base_uri": "https://localhost:8080/"
        }
      },
      "execution_count": null,
      "outputs": [
        {
          "output_type": "execute_result",
          "data": {
            "text/plain": [
              "dict"
            ]
          },
          "metadata": {},
          "execution_count": 14
        }
      ]
    },
    {
      "cell_type": "code",
      "source": [],
      "metadata": {
        "id": "p4MOJ7fbweX3"
      },
      "execution_count": null,
      "outputs": []
    }
  ]
}