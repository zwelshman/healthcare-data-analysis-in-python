{
  "nbformat": 4,
  "nbformat_minor": 0,
  "metadata": {
    "colab": {
      "provenance": [],
      "authorship_tag": "ABX9TyPwVlAYWobvf54bVRO7Y4KE",
      "include_colab_link": true
    },
    "kernelspec": {
      "name": "python3",
      "display_name": "Python 3"
    },
    "language_info": {
      "name": "python"
    }
  },
  "cells": [
    {
      "cell_type": "markdown",
      "metadata": {
        "id": "view-in-github",
        "colab_type": "text"
      },
      "source": [
        "<a href=\"https://colab.research.google.com/github/zwelshman/healthcare-data-analysis-in-python/blob/main/PySpark/debugging_in_pyspark.ipynb\" target=\"_parent\"><img src=\"https://colab.research.google.com/assets/colab-badge.svg\" alt=\"Open In Colab\"/></a>"
      ]
    },
    {
      "cell_type": "markdown",
      "source": [
        "#Debugging in PySpark"
      ],
      "metadata": {
        "id": "Y9_RhRYHMvXf"
      }
    },
    {
      "cell_type": "code",
      "source": [
        "!apt-get install openjdk-8-jdk-headless -qq > /dev/null\n",
        "!wget -q http://archive.apache.org/dist/spark/spark-3.1.1/spark-3.1.1-bin-hadoop3.2.tgz\n",
        "!tar xf spark-3.1.1-bin-hadoop3.2.tgz\n",
        "!pip install -q findspark\n",
        "\n",
        "import os\n",
        "os.environ[\"JAVA_HOME\"] = \"/usr/lib/jvm/java-8-openjdk-amd64\"\n",
        "os.environ[\"SPARK_HOME\"] = \"/content/spark-3.1.1-bin-hadoop3.2\"\n",
        "\n",
        "import findspark\n",
        "findspark.init()\n",
        "\n",
        "from pyspark.sql import SparkSession\n",
        "spark = SparkSession.builder.master(\"local[*]\").getOrCreate()\n",
        "spark.conf.set(\"spark.sql.repl.eagerEval.enabled\", True) # Property used to format output tables better\n",
        "spark"
      ],
      "metadata": {
        "id": "4wvZeTZbDbKW"
      },
      "execution_count": null,
      "outputs": []
    },
    {
      "cell_type": "code",
      "execution_count": null,
      "metadata": {
        "id": "2kX68VEUAKXd"
      },
      "outputs": [],
      "source": [
        "from pyspark.sql import functions as F\n",
        "\n",
        "def generate_fake_data():\n",
        "  \"\"\"\n",
        "  Simple function that generates fake data\n",
        "  and returns as a Spark DataFrame\n",
        "  \"\"\"\n",
        "  df = (\n",
        "      spark.createDataFrame(\n",
        "          [\n",
        "              (\"id_001\", \"2020-01-01\", 52),\n",
        "              (\"id_002\", \"2021-06-23\", 63),\n",
        "              (\"id_003\", \"2020-05-01\", 16)\n",
        "          ],\n",
        "          ['person_id', 'date', 'age']\n",
        "      )\n",
        "      .withColumn('date', F.to_date(F.col('date')))\n",
        "  )\n",
        "\n",
        "  return df\n",
        "\n",
        "df = generate_fake_data()"
      ]
    },
    {
      "cell_type": "code",
      "source": [
        "display(df)"
      ],
      "metadata": {
        "id": "eTyNy8ViEXVl"
      },
      "execution_count": null,
      "outputs": []
    },
    {
      "cell_type": "code",
      "source": [
        "def add_days(df, date_col, num_days):\n",
        "  \"\"\"\n",
        "  Function to create a new column with the number of days\n",
        "  added to an original date column\n",
        "  \"\"\"\n",
        "  return (\n",
        "      df\n",
        "      .withColumn(f'DATE_PLUS{str(num_days)}',\n",
        "                  F.date_add(df[f'{date_col}'], num_days))\n",
        "  )\n",
        "\n",
        "df_days = add_days(df, 'date', 10)\n",
        "\n",
        "display(df_days)"
      ],
      "metadata": {
        "id": "9DWAC6TiGKNy"
      },
      "execution_count": null,
      "outputs": []
    },
    {
      "cell_type": "markdown",
      "source": [
        "## Debugging: Simple example\n",
        "\n",
        "There are two ways to entering debug mode:\n",
        "\n",
        "- Create a cell beneath the one with the error and type `%debug` or,\n",
        "- At the top of a notebook automatically turn on the debugger with`%pdb on` where pdb stands for the python debugger."
      ],
      "metadata": {
        "id": "4nbOBg6SNO2P"
      }
    },
    {
      "cell_type": "markdown",
      "source": [
        "You might already know what the problem is in the code below, however with more complex code and functions it might not be as obvious."
      ],
      "metadata": {
        "id": "MWxy84tpOKJR"
      }
    },
    {
      "cell_type": "code",
      "source": [
        "df_days_error = add_days(df, 'date_1', 10)\n",
        "\n",
        "display(df_days_error)"
      ],
      "metadata": {
        "id": "nQLmGxCUG9PX"
      },
      "execution_count": null,
      "outputs": []
    },
    {
      "cell_type": "markdown",
      "source": [
        "The ```AnalysisExeception``` provides enough verbose to determine where the issues is, however we will ether the debug more to inspect.\n",
        "\n",
        "- We will use `%debug` to enter debug mode and look at the `converted` variable that contains the exception error.\n",
        "- Then we will jump up the stack trace, using the `u`  meaning up in the python debugger syntax, followed by pressing the return key, until we see the line of code where the exception started. (three jumps in this case).\n",
        "- Using the pdb `a` we can see\n",
        "- Then we will create an interactive shell using `interact` to inspect objects before the error occured.\n",
        "- As we created an interative shell before the error occurred we have access to objects such as `df` and we can call help the function like so `help(add_days())`"
      ],
      "metadata": {
        "id": "bn7BoLl_OPyo"
      }
    },
    {
      "cell_type": "code",
      "source": [
        "%debug"
      ],
      "metadata": {
        "id": "aqEQxiw-GITF"
      },
      "execution_count": null,
      "outputs": []
    },
    {
      "cell_type": "code",
      "source": [
        "%pdb on"
      ],
      "metadata": {
        "id": "AOnOhAGmBepG"
      },
      "execution_count": null,
      "outputs": []
    },
    {
      "cell_type": "code",
      "source": [],
      "metadata": {
        "id": "M5HrM0F-ML-N"
      },
      "execution_count": null,
      "outputs": []
    }
  ]
}